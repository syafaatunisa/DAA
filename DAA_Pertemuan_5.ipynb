{
  "nbformat": 4,
  "nbformat_minor": 0,
  "metadata": {
    "colab": {
      "provenance": [],
      "authorship_tag": "ABX9TyNFjHxVwCwZvRlIIxCPenLQ",
      "include_colab_link": true
    },
    "kernelspec": {
      "name": "python3",
      "display_name": "Python 3"
    },
    "language_info": {
      "name": "python"
    }
  },
  "cells": [
    {
      "cell_type": "markdown",
      "metadata": {
        "id": "view-in-github",
        "colab_type": "text"
      },
      "source": [
        "<a href=\"https://colab.research.google.com/github/syafaatunisa/DAA/blob/main/DAA_Pertemuan_5.ipynb\" target=\"_parent\"><img src=\"https://colab.research.google.com/assets/colab-badge.svg\" alt=\"Open In Colab\"/></a>"
      ]
    },
    {
      "cell_type": "code",
      "execution_count": 5,
      "metadata": {
        "id": "LFDKab1Qo7OV"
      },
      "outputs": [],
      "source": [
        "# Hitung Inversi\n",
        "\n",
        "def countInversion(arr):\n",
        "  result=0\n",
        "  for i in range(len(arr)):\n",
        "    for j in range(i+1,len(arr)):\n",
        "      if arr[i]>arr[j]:\n",
        "        result+=1\n",
        "  return result"
      ]
    },
    {
      "cell_type": "code",
      "source": [
        "arr=[21, 70, 36, 14,25]"
      ],
      "metadata": {
        "id": "GqS7XRIJp6AP"
      },
      "execution_count": 6,
      "outputs": []
    },
    {
      "cell_type": "code",
      "source": [
        "result=countInversion(arr)\n",
        "print(result)"
      ],
      "metadata": {
        "colab": {
          "base_uri": "https://localhost:8080/"
        },
        "id": "bOuigL24qCTM",
        "outputId": "6d9995fb-f626-48cf-d3d7-979b40513a11"
      },
      "execution_count": 7,
      "outputs": [
        {
          "output_type": "stream",
          "name": "stdout",
          "text": [
            "6\n"
          ]
        }
      ]
    },
    {
      "cell_type": "code",
      "source": [
        "# Hitung Inversi dengan divide dan conquer\n",
        "\n",
        "def countInversion(arr):\n",
        "  icount=0\n",
        "  if len(arr)<=1:\n",
        "    return icount\n",
        "\n",
        "  mid=len(arr)//2\n",
        "  left=arr[:mid]\n",
        "  right=arr[mid:]\n",
        "  icount+=countInversion(left)\n",
        "  icount+=countInversion(right)\n",
        "  i=j=k=0\n",
        "\n",
        "  #print(left)\n",
        "  #print(right)\n",
        "  while i<len(left) and j<len(right):\n",
        "    if left[i]<right[j]:\n",
        "      arr[k]=left[i]\n",
        "      i+=1\n",
        "    else:\n",
        "      #print (left[i],right[j])\n",
        "      arr[k]=right[j]\n",
        "      j+=1\n",
        "      icount+=(mid-i)\n",
        "    k+=1\n",
        "\n",
        "  while i<len(left):\n",
        "    arr[k]=left[i]\n",
        "    i+=1\n",
        "    k+=1\n",
        "  while j<len(right):\n",
        "    arr[k]=right[j]\n",
        "    j+=1\n",
        "    k+=1\n",
        "\n",
        "  return icount"
      ],
      "metadata": {
        "id": "JZjqDABjqodw"
      },
      "execution_count": 9,
      "outputs": []
    },
    {
      "cell_type": "code",
      "source": [
        "arr=[1, 20, 6, 4, 5]"
      ],
      "metadata": {
        "id": "TQ87HM7uwK2v"
      },
      "execution_count": 10,
      "outputs": []
    },
    {
      "cell_type": "code",
      "source": [
        "result = countInversion(arr)\n",
        "print(result)"
      ],
      "metadata": {
        "colab": {
          "base_uri": "https://localhost:8080/"
        },
        "id": "rOJ9VvccwX7t",
        "outputId": "ce4373a5-67a0-4410-b86d-c4e7d13cc9de"
      },
      "execution_count": 11,
      "outputs": [
        {
          "output_type": "stream",
          "name": "stdout",
          "text": [
            "5\n"
          ]
        }
      ]
    },
    {
      "cell_type": "code",
      "source": [
        "#Tanpa divide dan conquer\n",
        "\n",
        "def maxSubSum(arr):\n",
        "  max_so_far=0\n",
        "  max_ending_here=0\n",
        "  for i in range(len(arr)):\n",
        "    max_ending_here+=arr[i]\n",
        "    if max_ending_here>max_so_far:\n",
        "      max_so_far=max_ending_here\n",
        "    if max_ending_here<0:\n",
        "      max_ending_here=0\n",
        "  return max_so_far"
      ],
      "metadata": {
        "id": "FSz8xvepwl1c"
      },
      "execution_count": 12,
      "outputs": []
    },
    {
      "cell_type": "code",
      "source": [
        "arr=[-2, -5, 6, -2, -3, 1, 5, -6]\n",
        "result=maxSubSum(arr)\n",
        "print(result)"
      ],
      "metadata": {
        "colab": {
          "base_uri": "https://localhost:8080/"
        },
        "id": "UnDAis3eyC6L",
        "outputId": "63205ee2-f479-466c-f6c9-5678faa8df3f"
      },
      "execution_count": 13,
      "outputs": [
        {
          "output_type": "stream",
          "name": "stdout",
          "text": [
            "7\n"
          ]
        }
      ]
    },
    {
      "cell_type": "code",
      "source": [
        "# Menggunakan Divide and Conquer\n",
        "\n",
        "def maxCrossingSum(arr,low,mid,high):\n",
        "  result=0; leftSum=float('-infinity')\n",
        "  for i in range(mid,low-1,-1):\n",
        "      result+=arr[i]\n",
        "      if result>leftSum:\n",
        "          leftSum=result\n",
        "  result=0; rightSum=float('-infinity')\n",
        "  for i in range(mid+1,high+1):\n",
        "      result+=arr[i]\n",
        "      if result>rightSum:\n",
        "          rightSum=result\n",
        "  return leftSum+rightSum\n",
        "\n",
        "\n",
        "def maxSum(arr,low,high):\n",
        "    if low==high:\n",
        "        return arr[low]\n",
        "    mid=(low+high)//2\n",
        "    return max(maxSum(arr,low,mid),maxSum(arr,mid+1,high),maxCrossingSum(arr,low,mid,high))"
      ],
      "metadata": {
        "id": "RCB9m6Z-6t47"
      },
      "execution_count": 14,
      "outputs": []
    },
    {
      "cell_type": "code",
      "source": [
        "arr=[-2, -5, 6, -2, -3, 1, 5, -6]\n",
        "result=maxSum(arr,0,len(arr)-1)\n",
        "print(result)"
      ],
      "metadata": {
        "colab": {
          "base_uri": "https://localhost:8080/"
        },
        "id": "--pbz-UlBHx_",
        "outputId": "1b2a128e-7391-42c5-81c9-a14c1b5f54fb"
      },
      "execution_count": 15,
      "outputs": [
        {
          "output_type": "stream",
          "name": "stdout",
          "text": [
            "7\n"
          ]
        }
      ]
    },
    {
      "cell_type": "code",
      "source": [
        "# Dengan divide dan Conquer\n",
        "\n",
        "def commonPrefix(str1,str2):\n",
        "  n1=len(str1);n2=len(str2)\n",
        "  i,j=0,0\n",
        "  s=\"\"\n",
        "  while i<n1 and j<n2:\n",
        "      if str1[i]==str2[j]:\n",
        "          s+=str1[i]\n",
        "          i+=1\n",
        "          j+=1\n",
        "      else:\n",
        "          break\n",
        "  return s"
      ],
      "metadata": {
        "id": "MYW9yGzjK7Lb"
      },
      "execution_count": 21,
      "outputs": []
    },
    {
      "cell_type": "code",
      "source": [
        "def longestCommonPrefix(arr,low,high):\n",
        "  if low==high:\n",
        "        return arr[low]\n",
        "  mid=(low+high)//2\n",
        "  result1=longestCommonPrefix(arr,low,mid)\n",
        "  result2=longestCommonPrefix(arr,mid+1,high)\n",
        "  result=commonPrefix(result1,result2)\n",
        "  return result"
      ],
      "metadata": {
        "id": "vuYaPeuAMk_p"
      },
      "execution_count": 25,
      "outputs": []
    },
    {
      "cell_type": "code",
      "source": [
        "arr=['geeksforgeeks','geeks','geek','geezer']"
      ],
      "metadata": {
        "id": "Ww4BGnaMNDWj"
      },
      "execution_count": 26,
      "outputs": []
    },
    {
      "cell_type": "code",
      "source": [
        "result=longestCommonPrefix(arr,0,len(arr)-1)"
      ],
      "metadata": {
        "id": "iWod7Q2DNOfb"
      },
      "execution_count": 27,
      "outputs": []
    },
    {
      "cell_type": "code",
      "source": [
        "print(result)"
      ],
      "metadata": {
        "colab": {
          "base_uri": "https://localhost:8080/"
        },
        "id": "Ir5P3_TiNb6s",
        "outputId": "f10d7ed4-9f30-4920-8188-d6979522883f"
      },
      "execution_count": 28,
      "outputs": [
        {
          "output_type": "stream",
          "name": "stdout",
          "text": [
            "gee\n"
          ]
        }
      ]
    },
    {
      "cell_type": "code",
      "source": [
        "arr=[\"apple\",\"ape\",\"april\"]\n",
        "result=longestCommonPrefix(arr,0,len(arr)-1)\n",
        "print(result)"
      ],
      "metadata": {
        "colab": {
          "base_uri": "https://localhost:8080/"
        },
        "id": "0pkaZjf7Ngxr",
        "outputId": "e030fc7e-4208-406c-b3ff-242804c4d8b3"
      },
      "execution_count": 29,
      "outputs": [
        {
          "output_type": "stream",
          "name": "stdout",
          "text": [
            "ap\n"
          ]
        }
      ]
    },
    {
      "cell_type": "code",
      "source": [
        "#Median dari dua array dengan divide dan conquer\n",
        "\n",
        "def medianOfArray(arr1,arr2,n):\n",
        "    m1=-1#first number\n",
        "    m2=-1#second number\n",
        "    count=0\n",
        "    i=j=0\n",
        "    while count<n+1:\n",
        "      count+=1\n",
        "      if i==n:# i==5 index error if arr1[i]<arr2[j]is checked\n",
        "          m1=m2\n",
        "          m2=arr2[0]\n",
        "          break\n",
        "      if j==n:\n",
        "          m1=m2\n",
        "          m2=arr1[0]\n",
        "          break\n",
        "      if arr1[i]<arr2[j]:\n",
        "          m1=m2\n",
        "          m2=arr1[i]\n",
        "          i+=1\n",
        "      else:\n",
        "        m1=m2\n",
        "        m2=arr2[j]\n",
        "        j+=1\n",
        "    return (m1+m2)//2"
      ],
      "metadata": {
        "id": "2v14oFNZN2sN"
      },
      "execution_count": 40,
      "outputs": []
    },
    {
      "cell_type": "code",
      "source": [
        "arr1=[1, 12, 15, 26, 38]\n",
        "arr2=[2, 13, 17, 30, 45]"
      ],
      "metadata": {
        "id": "O2cTHRQ_PMua"
      },
      "execution_count": 41,
      "outputs": []
    },
    {
      "cell_type": "code",
      "source": [
        "print(medianOfArray(arr1,arr2,len(arr1)))"
      ],
      "metadata": {
        "colab": {
          "base_uri": "https://localhost:8080/"
        },
        "id": "tO3mTTPePYx-",
        "outputId": "180e0f64-ad63-4805-acb4-bcdd05def00a"
      },
      "execution_count": 42,
      "outputs": [
        {
          "output_type": "stream",
          "name": "stdout",
          "text": [
            "16\n"
          ]
        }
      ]
    },
    {
      "cell_type": "code",
      "source": [
        "# Floor in sorted array\n",
        "\n",
        "def floorSorted(arr,low,high,x):\n",
        "  #print(low,high)\n",
        "  if low>high:\n",
        "      return -1\n",
        "\n",
        "  if arr[low]>x:\n",
        "    #print(\"inside\")\n",
        "      return -1\n",
        "\n",
        "  if arr[high]<=x:\n",
        "      return arr[high]\n",
        "\n",
        "  mid=(low+high)//2\n",
        "\n",
        "  if arr[mid]==x: \n",
        "      return arr[mid]\n",
        "\n",
        "  if mid>0 and x>=arr[mid-1] and arr[mid]>x:\n",
        "      return arr[mid-1]\n",
        "\n",
        "  if mid<high and x<arr[mid+1] and x>=arr[mid]:\n",
        "      return arr[mid]\n",
        "\n",
        "  if x>arr[mid]:\n",
        "      return floorSorted(arr,mid+1,high,x)\n",
        "\n",
        "  else:\n",
        "      return floorSorted(arr,low,mid-1,x)"
      ],
      "metadata": {
        "id": "_YsYA2q0Pon0"
      },
      "execution_count": 43,
      "outputs": []
    },
    {
      "cell_type": "code",
      "source": [
        "# Mencari nilai terdekat dengan metode divide dan conquer\n",
        "\n",
        "def closestNumber(arr,low,high,x):\n",
        "    if low>high:\n",
        "      return -1\n",
        "    if arr[high]<=x:\n",
        "      return arr[high]\n",
        "    if arr[low]>=x:\n",
        "      return arr[low]\n",
        "    mid=(low+high)//2\n",
        "    if arr[mid]==x:\n",
        "      return arr[mid]\n",
        "    abs_mid=abs(arr[mid]-x)\n",
        "    if mid>0:\n",
        "        abs_left=abs(arr[mid-1]-x)\n",
        "        if abs_left<abs_mid:\n",
        "          return closestNumber(arr,low,mid-1,x)\n",
        "    if mid<high:\n",
        "      abs_right=abs(arr[mid+1]-x)\n",
        "      if abs_right<abs_mid:\n",
        "        return closestNumber(arr,mid+1,high,x)\n",
        "    #print('after')\n",
        "    return arr[mid]"
      ],
      "metadata": {
        "id": "JRrwEQT-Pz00"
      },
      "execution_count": 63,
      "outputs": []
    },
    {
      "cell_type": "code",
      "source": [
        "arr=[2, 5, 6, 7, 8,8, 9]"
      ],
      "metadata": {
        "id": "ReJjqG9_Rqv2"
      },
      "execution_count": 64,
      "outputs": []
    },
    {
      "cell_type": "code",
      "source": [
        "x = 14"
      ],
      "metadata": {
        "id": "RYdQy7VPSKPy"
      },
      "execution_count": 71,
      "outputs": []
    },
    {
      "cell_type": "code",
      "source": [
        "print(closestNumber(arr,0,len(arr)-1,x))"
      ],
      "metadata": {
        "colab": {
          "base_uri": "https://localhost:8080/"
        },
        "id": "MZYdot8GSNBh",
        "outputId": "76e94d8c-3ec8-4aef-c543-f0514e707c29"
      },
      "execution_count": 72,
      "outputs": [
        {
          "output_type": "stream",
          "name": "stdout",
          "text": [
            "9\n"
          ]
        }
      ]
    },
    {
      "cell_type": "code",
      "source": [
        "# Mencari fixed point dengan metode divide dan conquer\n",
        "\n",
        "def fixedPoint(arr,low,high):\n",
        "  if low>high:\n",
        "    return -1\n",
        "  if arr[high]==high:\n",
        "    return arr[high]\n",
        "  if arr[low]==low:\n",
        "    return arr[low]\n",
        "  mid=(low+high)//2\n",
        "  if arr[mid]==mid:\n",
        "    return arr[mid]\n",
        "  if mid>arr[mid]:\n",
        "    return fixedPoint(arr,mid+1,high)\n",
        "  else:\n",
        "    return fixedPoint(arr,low,mid-1)\n"
      ],
      "metadata": {
        "id": "dH6jksl3USHv"
      },
      "execution_count": 81,
      "outputs": []
    },
    {
      "cell_type": "code",
      "source": [
        "arr=[9,1,4,5,2]"
      ],
      "metadata": {
        "id": "4N0jCsaIWZOy"
      },
      "execution_count": 82,
      "outputs": []
    },
    {
      "cell_type": "code",
      "source": [
        "print(fixedPoint(arr,0,len(arr)-1))"
      ],
      "metadata": {
        "colab": {
          "base_uri": "https://localhost:8080/"
        },
        "id": "m9PWB26HWeO5",
        "outputId": "7d2d3e9f-f52b-4e15-d307-e5cc0d175142"
      },
      "execution_count": 83,
      "outputs": [
        {
          "output_type": "stream",
          "name": "stdout",
          "text": [
            "1\n"
          ]
        }
      ]
    }
  ]
}