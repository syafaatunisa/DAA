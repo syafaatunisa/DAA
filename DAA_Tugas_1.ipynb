{
  "nbformat": 4,
  "nbformat_minor": 0,
  "metadata": {
    "colab": {
      "provenance": [],
      "authorship_tag": "ABX9TyNqt7DNHnAfC7vQRRoXIqzX",
      "include_colab_link": true
    },
    "kernelspec": {
      "name": "python3",
      "display_name": "Python 3"
    },
    "language_info": {
      "name": "python"
    }
  },
  "cells": [
    {
      "cell_type": "markdown",
      "metadata": {
        "id": "view-in-github",
        "colab_type": "text"
      },
      "source": [
        "<a href=\"https://colab.research.google.com/github/syafaatunisa/DAA/blob/main/DAA_Tugas_1.ipynb\" target=\"_parent\"><img src=\"https://colab.research.google.com/assets/colab-badge.svg\" alt=\"Open In Colab\"/></a>"
      ]
    },
    {
      "cell_type": "code",
      "execution_count": 67,
      "metadata": {
        "id": "uFiQEhy2CjDg"
      },
      "outputs": [],
      "source": [
        "import numpy as np"
      ]
    },
    {
      "cell_type": "code",
      "source": [
        "print(np.__version__)"
      ],
      "metadata": {
        "colab": {
          "base_uri": "https://localhost:8080/"
        },
        "id": "BGQ1D5XGJGh6",
        "outputId": "ec5fcfcf-4883-4391-909d-f846bb2adbe4"
      },
      "execution_count": 68,
      "outputs": [
        {
          "output_type": "stream",
          "name": "stdout",
          "text": [
            "1.21.6\n"
          ]
        }
      ]
    },
    {
      "cell_type": "code",
      "source": [
        "print(\"Hello,World\")\n",
        "print(\"Nama saya Syafa\")\n",
        "print(\"NIM saya 2021071014\")"
      ],
      "metadata": {
        "colab": {
          "base_uri": "https://localhost:8080/"
        },
        "id": "sMB1bN5WLNeq",
        "outputId": "e6a5edec-203b-41f0-9d6d-1e659fab2821"
      },
      "execution_count": 69,
      "outputs": [
        {
          "output_type": "stream",
          "name": "stdout",
          "text": [
            "Hello,World\n",
            "Nama saya Syafa\n",
            "NIM saya 2021071014\n"
          ]
        }
      ]
    },
    {
      "cell_type": "code",
      "source": [
        "if 5>2 :\n",
        "  print(\"Five is greater than two!\") "
      ],
      "metadata": {
        "colab": {
          "base_uri": "https://localhost:8080/"
        },
        "id": "YbAFH0qrMPRE",
        "outputId": "cb53b903-a172-48f7-d869-f686607946a1"
      },
      "execution_count": 70,
      "outputs": [
        {
          "output_type": "stream",
          "name": "stdout",
          "text": [
            "Five is greater than two!\n"
          ]
        }
      ]
    },
    {
      "cell_type": "code",
      "source": [
        "x = 5\n",
        "y = \"John\"\n",
        "print(x)\n",
        "print(y)"
      ],
      "metadata": {
        "colab": {
          "base_uri": "https://localhost:8080/"
        },
        "id": "z9SKcfX9Mvez",
        "outputId": "83e6b4c8-daf6-43d7-b0a2-4c7e9e3c6ffa"
      },
      "execution_count": 71,
      "outputs": [
        {
          "output_type": "stream",
          "name": "stdout",
          "text": [
            "5\n",
            "John\n"
          ]
        }
      ]
    },
    {
      "cell_type": "code",
      "source": [
        "x = 5\n",
        "x = \"Sally\"\n",
        "print(x)"
      ],
      "metadata": {
        "colab": {
          "base_uri": "https://localhost:8080/"
        },
        "id": "ncN5mVjAM8CB",
        "outputId": "705ce9c4-6cca-4fd7-bdd9-6108337358d3"
      },
      "execution_count": 72,
      "outputs": [
        {
          "output_type": "stream",
          "name": "stdout",
          "text": [
            "Sally\n"
          ]
        }
      ]
    },
    {
      "cell_type": "code",
      "source": [
        "def getFirst(myList):\n",
        "  return myList[0]\n",
        "\n",
        "getFirst([1,2,3])\n",
        "getFirst([1,2,3,4,5,6,7,8,9,10])"
      ],
      "metadata": {
        "colab": {
          "base_uri": "https://localhost:8080/"
        },
        "id": "M7CLpk_NNMCC",
        "outputId": "fd468cbf-77e5-419a-bfb4-e81138ffabad"
      },
      "execution_count": 73,
      "outputs": [
        {
          "output_type": "execute_result",
          "data": {
            "text/plain": [
              "1"
            ]
          },
          "metadata": {},
          "execution_count": 73
        }
      ]
    },
    {
      "cell_type": "code",
      "source": [
        "#Jika getFirst diperoleh dari myList[0], bagaimana memperoleh getSecond!\n",
        "def getSecond(myList):\n",
        "  return myList[1]\n",
        "\n",
        "getSecond([1,2,3])\n",
        "#Memakai indeks 1 bukan 0 karena untuk menampilkan nilai dari ()"
      ],
      "metadata": {
        "colab": {
          "base_uri": "https://localhost:8080/"
        },
        "id": "V_Tx3L-2ixPF",
        "outputId": "5258b4c8-8099-453c-8a58-a9c9f3c5670a"
      },
      "execution_count": 74,
      "outputs": [
        {
          "output_type": "execute_result",
          "data": {
            "text/plain": [
              "2"
            ]
          },
          "metadata": {},
          "execution_count": 74
        }
      ]
    },
    {
      "cell_type": "code",
      "source": [
        "#Jika getFirst diperoleh dari myList[0], bagaimana memperoleh getLast(isi terakhir)!\n",
        "def getLast(myList):\n",
        "  return myList[-1]\n",
        "\n",
        "getLast([1,2,3])"
      ],
      "metadata": {
        "colab": {
          "base_uri": "https://localhost:8080/"
        },
        "id": "he33Bvr2QwYc",
        "outputId": "a3f6d0f9-4119-4f7f-fdfe-c3c330efe51e"
      },
      "execution_count": 75,
      "outputs": [
        {
          "output_type": "execute_result",
          "data": {
            "text/plain": [
              "3"
            ]
          },
          "metadata": {},
          "execution_count": 75
        }
      ]
    },
    {
      "cell_type": "code",
      "source": [
        "def getsum(myList):\n",
        "  sum = 0\n",
        "  for item in myList:\n",
        "    sum = sum+item\n",
        "  return sum\n",
        "#peratikan posisi spasi pada return\n",
        "\n",
        "getsum([1,2,3])"
      ],
      "metadata": {
        "colab": {
          "base_uri": "https://localhost:8080/"
        },
        "id": "I3sKqXoHR-SO",
        "outputId": "c24d7aaf-7721-42ab-d94e-b4d9984def86"
      },
      "execution_count": 76,
      "outputs": [
        {
          "output_type": "execute_result",
          "data": {
            "text/plain": [
              "6"
            ]
          },
          "metadata": {},
          "execution_count": 76
        }
      ]
    },
    {
      "cell_type": "code",
      "source": [
        "#getSum adalah perintah untuk mendapatkan hasil jumlah seluruh angka. \n",
        "#bagaimana jika kita membutuhkan fungsi getKali untuk mengalikan seluruh angka!\n",
        " \n",
        "def getKali (myList):\n",
        "  kali = 1\n",
        "  for item in myList:\n",
        "    kali *= item\n",
        "  return kali\n",
        "\n",
        "getKali([1,2,3])"
      ],
      "metadata": {
        "colab": {
          "base_uri": "https://localhost:8080/"
        },
        "id": "S6rmUHWtS9_A",
        "outputId": "bc3f7de0-7084-488e-a9c6-17009784ca6e"
      },
      "execution_count": 77,
      "outputs": [
        {
          "output_type": "execute_result",
          "data": {
            "text/plain": [
              "6"
            ]
          },
          "metadata": {},
          "execution_count": 77
        }
      ]
    },
    {
      "cell_type": "markdown",
      "source": [
        "Buatlah perintah getKali"
      ],
      "metadata": {
        "id": "cCg7NQ3TVKd_"
      }
    },
    {
      "cell_type": "code",
      "source": [
        "#bagaimana jika kita membutuhkan fungsi getBagi untuk membagikan seluruh angka!\n",
        "def getBagi (myList):\n",
        "  bagi = 12\n",
        "  for item in myList:\n",
        "    bagi /= item\n",
        "  return bagi\n",
        "\n",
        "getBagi([1,2,3])"
      ],
      "metadata": {
        "colab": {
          "base_uri": "https://localhost:8080/"
        },
        "id": "SbZv11qBToM-",
        "outputId": "9f6fbe3f-f06d-4b41-8f4f-a2e93d849c86"
      },
      "execution_count": 78,
      "outputs": [
        {
          "output_type": "execute_result",
          "data": {
            "text/plain": [
              "2.0"
            ]
          },
          "metadata": {},
          "execution_count": 78
        }
      ]
    },
    {
      "cell_type": "code",
      "source": [
        "#menjumlahkan sum\n",
        "def getSum(myList):\n",
        "  sum = 0\n",
        "  for row in myList:\n",
        "    for item in row:\n",
        "      sum += item\n",
        "    return sum\n",
        "\n",
        "getSum([[1,2,3],[4,5,6]])"
      ],
      "metadata": {
        "colab": {
          "base_uri": "https://localhost:8080/"
        },
        "id": "iX_w8-IDXrw9",
        "outputId": "d5dd5421-3579-4a40-8a5c-448e54477f9e"
      },
      "execution_count": 79,
      "outputs": [
        {
          "output_type": "execute_result",
          "data": {
            "text/plain": [
              "6"
            ]
          },
          "metadata": {},
          "execution_count": 79
        }
      ]
    },
    {
      "cell_type": "code",
      "source": [
        "#buatlah suatu fungsi untuk membagi 2 himpunan angka, jika getSum untuk menjumlahkan angka!\n",
        "\n",
        "def getBagi(myList):\n",
        "  sum = 24\n",
        "  for row in myList:\n",
        "    for item in row:\n",
        "      sum /= item\n",
        "    return sum\n",
        "\n",
        "getBagi([[3,4],[6,7]])"
      ],
      "metadata": {
        "colab": {
          "base_uri": "https://localhost:8080/"
        },
        "id": "NlexJfgncdu5",
        "outputId": "20575ec2-90b3-4840-f8d7-be3154291f60"
      },
      "execution_count": 80,
      "outputs": [
        {
          "output_type": "execute_result",
          "data": {
            "text/plain": [
              "2.0"
            ]
          },
          "metadata": {},
          "execution_count": 80
        }
      ]
    },
    {
      "cell_type": "code",
      "source": [
        "#buatlah suatu fungsi untuk mengurangi 2 himpunan angka, jika getSum untuk menjumlahkan 2 angka!\n",
        "\n",
        "def getKurang(myList):\n",
        "  sum = 50\n",
        "  for row in myList:\n",
        "    for item in row:\n",
        "      sum -= item\n",
        "    return sum\n",
        "\n",
        "getKurang([[20,2],[60,2]])"
      ],
      "metadata": {
        "colab": {
          "base_uri": "https://localhost:8080/"
        },
        "id": "dTbbyn5yeKfz",
        "outputId": "cbac92b2-6cb6-4010-dc5b-1eb83381f423"
      },
      "execution_count": 81,
      "outputs": [
        {
          "output_type": "execute_result",
          "data": {
            "text/plain": [
              "28"
            ]
          },
          "metadata": {},
          "execution_count": 81
        }
      ]
    }
  ]
}